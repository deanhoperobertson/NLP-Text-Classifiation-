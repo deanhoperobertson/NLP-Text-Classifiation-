{
  "nbformat": 4,
  "nbformat_minor": 0,
  "metadata": {
    "colab": {
      "name": "Word Embeddings",
      "version": "0.3.2",
      "provenance": [],
      "collapsed_sections": [],
      "include_colab_link": true
    },
    "kernelspec": {
      "name": "python3",
      "display_name": "Python 3"
    }
  },
  "cells": [
    {
      "cell_type": "markdown",
      "metadata": {
        "id": "view-in-github",
        "colab_type": "text"
      },
      "source": [
        "<a href=\"https://colab.research.google.com/github/deanhoperobertson/NLP-Text-Classifiation-/blob/master/Word_Embeddings.ipynb\" target=\"_parent\"><img src=\"https://colab.research.google.com/assets/colab-badge.svg\" alt=\"Open In Colab\"/></a>"
      ]
    },
    {
      "cell_type": "markdown",
      "metadata": {
        "id": "cEIwI30lYqBO",
        "colab_type": "text"
      },
      "source": [
        "## Wording Embeddings"
      ]
    },
    {
      "cell_type": "code",
      "metadata": {
        "id": "EJRf8n7Qn-mY",
        "colab_type": "code",
        "colab": {}
      },
      "source": [
        "import urllib.request\n",
        "import pandas as pd\n",
        "import urllib\n",
        "from sklearn import model_selection, preprocessing\n",
        "\n",
        "from matplotlib import pyplot\n",
        "%matplotlib inline\n",
        "\n",
        "#Feature Engineering\n",
        "from sklearn.feature_extraction.text import CountVectorizer\n",
        "from sklearn.feature_extraction.text import TfidfVectorizer\n",
        "from sklearn.feature_selection import SelectKBest\n",
        "from sklearn.feature_selection import f_classif\n",
        "\n",
        "#keras\n",
        "from keras.preprocessing.text import Tokenizer\n",
        "\n",
        "#embeddings\n",
        "from gensim.models import Word2Vec\n",
        "from gensim.models import KeyedVectors\n",
        "from sklearn.decomposition import PCA\n",
        "import multiprocessing"
      ],
      "execution_count": 0,
      "outputs": []
    },
    {
      "cell_type": "code",
      "metadata": {
        "id": "IjPSH9txoBPP",
        "colab_type": "code",
        "colab": {}
      },
      "source": [
        "#import data from my github repo\n",
        "url = \"https://raw.githubusercontent.com/deanhoperobertson/NLP-Text-Classifiation-/master/corpus.txt\"\n",
        "data = urllib.request.urlopen(url).read()\n",
        "data = data.decode('utf-8')"
      ],
      "execution_count": 0,
      "outputs": []
    },
    {
      "cell_type": "code",
      "metadata": {
        "id": "Sp_m5ToIoQvz",
        "colab_type": "code",
        "colab": {}
      },
      "source": [
        "labels, texts = [], []\n",
        "for i, line in enumerate(str(data).split(\"\\n\")):\n",
        "    content = line.replace(\"\\\\\",\"\").split()\n",
        "    labels.append(content[0])\n",
        "    texts.append(\" \".join(content[1:]))\n",
        "\n",
        "# create a dataframe using texts and lables\n",
        "trainDF = pd.DataFrame()\n",
        "trainDF['text'] = texts\n",
        "trainDF['label'] = labels"
      ],
      "execution_count": 0,
      "outputs": []
    },
    {
      "cell_type": "code",
      "metadata": {
        "id": "d6MnALY6reQW",
        "colab_type": "code",
        "colab": {}
      },
      "source": [
        "#split into train and test set (default is 25%)\n",
        "#set seed for consistency\n",
        "train_x, valid_x, train_y, valid_y = model_selection.train_test_split(trainDF['text'], trainDF['label'], test_size=0.25, random_state=1)\n",
        "\n",
        "# encode target labels into intergers between 0 - no.classes\n",
        "# label 2 = 1\n",
        "# label 1 = 0\n",
        "encoder = preprocessing.LabelEncoder()\n",
        "train_y = encoder.fit_transform(train_y)\n",
        "valid_y = encoder.fit_transform(valid_y)"
      ],
      "execution_count": 0,
      "outputs": []
    },
    {
      "cell_type": "code",
      "metadata": {
        "id": "T0T2pEb4daWB",
        "colab_type": "code",
        "colab": {}
      },
      "source": [
        "# define training data\n",
        "sentences = [['this', 'is', 'the', 'first', 'sentence', 'for', 'word2vec'],\n",
        "\t\t\t['this', 'is', 'the', 'second', 'sentence'],\n",
        "\t\t\t['yet', 'another', 'sentence'],\n",
        "\t\t\t['one', 'more', 'sentence'],\n",
        "\t\t\t['and', 'the', 'final', 'sentence']]"
      ],
      "execution_count": 0,
      "outputs": []
    },
    {
      "cell_type": "code",
      "metadata": {
        "id": "V2o--ETMdbVD",
        "colab_type": "code",
        "colab": {
          "base_uri": "https://localhost:8080/",
          "height": 34
        },
        "outputId": "d11288df-eb12-4bd4-ec4f-c9d813cbc63b"
      },
      "source": [
        "model_1 = Word2Vec(sentences, min_count=1)\n",
        "#Lenth of the courpus \n",
        "total_examples = model_1.corpus_count\n",
        "model_1.train(sentences, total_examples=total_examples,epochs=30)\n",
        "print(model_1)"
      ],
      "execution_count": 143,
      "outputs": [
        {
          "output_type": "stream",
          "text": [
            "Word2Vec(vocab=14, size=100, alpha=0.025)\n"
          ],
          "name": "stdout"
        }
      ]
    },
    {
      "cell_type": "code",
      "metadata": {
        "id": "rRHTVpPte_Cp",
        "colab_type": "code",
        "colab": {
          "base_uri": "https://localhost:8080/",
          "height": 34
        },
        "outputId": "43bc940b-9738-4db2-8731-bcd725249c30"
      },
      "source": [
        "# summarize vocabulary\n",
        "words = list(model_1.wv.vocab)\n",
        "print(words)"
      ],
      "execution_count": 144,
      "outputs": [
        {
          "output_type": "stream",
          "text": [
            "['this', 'is', 'the', 'first', 'sentence', 'for', 'word2vec', 'second', 'yet', 'another', 'one', 'more', 'and', 'final']\n"
          ],
          "name": "stdout"
        }
      ]
    },
    {
      "cell_type": "code",
      "metadata": {
        "id": "dQ6ZeJW1jYZ6",
        "colab_type": "code",
        "colab": {
          "base_uri": "https://localhost:8080/",
          "height": 476
        },
        "outputId": "4791aac9-7412-4c17-c741-fdba32d1be93"
      },
      "source": [
        "# access vector for one word\n",
        "print(model_1['sentence'])"
      ],
      "execution_count": 145,
      "outputs": [
        {
          "output_type": "stream",
          "text": [
            "[-4.5616538e-03 -3.5043543e-03  4.6407892e-03 -4.7894320e-03\n",
            " -2.9296484e-03 -4.9965964e-03 -4.5858347e-03 -3.3215433e-03\n",
            "  3.0181692e-03 -1.7097431e-04 -2.2017050e-03 -2.9504031e-03\n",
            "  4.9764155e-03 -2.0334334e-03 -5.9823372e-04 -3.4317195e-03\n",
            " -4.7169062e-03 -1.5823708e-03 -1.4801420e-03  2.2142655e-03\n",
            "  3.3689253e-03  4.3597613e-03 -3.5727848e-03  4.4204639e-03\n",
            " -7.3733070e-04 -2.2555748e-03  2.4632353e-03 -4.5867520e-03\n",
            " -4.2769727e-03  1.5275608e-03  4.8271972e-03  9.2768803e-04\n",
            " -3.1632578e-04 -2.7968029e-03 -2.2391409e-03  2.5311972e-03\n",
            " -1.8731136e-03  2.4978877e-03 -2.8009696e-03 -2.7569276e-03\n",
            "  3.0212663e-03  2.1669432e-03 -8.3960616e-04 -1.2608864e-03\n",
            "  3.9878688e-03 -1.3145262e-03 -1.3866167e-03 -1.9657998e-03\n",
            "  3.3442534e-03 -8.9014752e-04 -4.9227979e-03 -4.7888756e-03\n",
            "  2.2845627e-03 -2.5202462e-04  4.5613893e-03  8.5209898e-04\n",
            "  6.1159808e-04 -3.7199126e-03  1.4704722e-03  8.5877975e-05\n",
            "  6.8244082e-04 -2.6223918e-03 -4.3502334e-03 -3.9973240e-03\n",
            "  5.2587042e-04  3.5597999e-03 -6.8669679e-04  3.6177631e-03\n",
            " -2.4738698e-03  1.0893974e-03 -3.1392965e-03 -3.6797281e-03\n",
            " -4.0441765e-03 -2.6673209e-03 -4.1905539e-03  4.4889473e-03\n",
            "  9.1927079e-04 -1.5519565e-03  1.9807494e-03 -1.2273050e-03\n",
            " -8.6916197e-04  2.5057522e-04  2.1337827e-03  1.7450358e-03\n",
            " -7.3222339e-04 -6.6339751e-05 -4.9753338e-03 -7.0284143e-05\n",
            " -2.5428385e-03 -3.7078809e-03 -2.3885716e-04 -9.8370609e-04\n",
            " -2.0650374e-03 -1.3138244e-03  1.3866936e-04  4.2417054e-03\n",
            "  3.2723879e-03  1.3217061e-03  4.6194531e-04  3.2368972e-04]\n"
          ],
          "name": "stdout"
        },
        {
          "output_type": "stream",
          "text": [
            "/usr/local/lib/python3.6/dist-packages/ipykernel_launcher.py:1: DeprecationWarning: Call to deprecated `__getitem__` (Method will be removed in 4.0.0, use self.wv.__getitem__() instead).\n",
            "  \"\"\"Entry point for launching an IPython kernel.\n"
          ],
          "name": "stderr"
        }
      ]
    },
    {
      "cell_type": "markdown",
      "metadata": {
        "id": "D1Eqnp3Pjeho",
        "colab_type": "text"
      },
      "source": [
        "## Vizualize the Word Embeddings"
      ]
    },
    {
      "cell_type": "code",
      "metadata": {
        "id": "EObk0p2GfAt3",
        "colab_type": "code",
        "colab": {
          "base_uri": "https://localhost:8080/",
          "height": 269
        },
        "outputId": "86217f3e-ff49-49a8-bed2-dc1b0fbc1819"
      },
      "source": [
        "pca = PCA(n_components=2)\n",
        "result = pca.fit_transform(X)\n",
        "\n",
        "pyplot.scatter(result[:, 0], result[:, 1])\n",
        "words = list(model_1.wv.vocab)\n",
        "for i, word in enumerate(words):\n",
        "    pyplot.annotate(word, xy=(result[i, 0], result[i, 1]))\n",
        "pyplot.show()"
      ],
      "execution_count": 146,
      "outputs": [
        {
          "output_type": "display_data",
          "data": {
            "image/png": "[encoded data removed]",
            "text/plain": [
              "<Figure size 432x288 with 1 Axes>"
            ]
          },
          "metadata": {
            "tags": []
          }
        }
      ]
    },
    {
      "cell_type": "code",
      "metadata": {
        "id": "p2Q_3dNClerz",
        "colab_type": "code",
        "colab": {}
      },
      "source": [
        ""
      ],
      "execution_count": 0,
      "outputs": []
    }
  ]
}