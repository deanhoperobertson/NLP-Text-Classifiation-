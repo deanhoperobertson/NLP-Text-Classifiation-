{
  "nbformat": 4,
  "nbformat_minor": 0,
  "metadata": {
    "colab": {
      "name": "Text Preprocessing.ipynb",
      "version": "0.3.2",
      "provenance": [],
      "include_colab_link": true
    },
    "kernelspec": {
      "name": "python3",
      "display_name": "Python 3"
    }
  },
  "cells": [
    {
      "cell_type": "markdown",
      "metadata": {
        "id": "view-in-github",
        "colab_type": "text"
      },
      "source": [
        "<a href=\"https://colab.research.google.com/github/deanhoperobertson/NLP-Text-Classifiation-/blob/master/Text_Preprocessing.ipynb\" target=\"_parent\"><img src=\"https://colab.research.google.com/assets/colab-badge.svg\" alt=\"Open In Colab\"/></a>"
      ]
    },
    {
      "metadata": {
        "id": "R4B85UiN5cW_",
        "colab_type": "code",
        "colab": {}
      },
      "cell_type": "code",
      "source": [
        "import urllib.request\n",
        "import pandas as pd\n",
        "import urllib\n",
        "\n",
        "#vizualization\n",
        "import seaborn as sns\n",
        "import matplotlib.pyplot as plt\n",
        "%matplotlib inline\n",
        "\n",
        "#Text Preprocessing\n",
        "from bs4 import BeautifulSoup\n",
        "import unicodedata\n",
        "import string\n",
        "import re\n",
        "\n",
        "from sklearn import model_selection\n",
        "from sklearn.model_selection import train_test_split\n",
        "\n"
      ],
      "execution_count": 0,
      "outputs": []
    },
    {
      "metadata": {
        "id": "9fdcNqjN5dJ1",
        "colab_type": "code",
        "colab": {}
      },
      "cell_type": "code",
      "source": [
        "#import data from my github repo\n",
        "url = \"https://raw.githubusercontent.com/deanhoperobertson/NLP-Text-Classifiation-/master/corpus.txt\"\n",
        "data = urllib.request.urlopen(url).read()\n",
        "data = data.decode('utf-8')"
      ],
      "execution_count": 0,
      "outputs": []
    },
    {
      "metadata": {
        "id": "n0KLPZ5v5h1F",
        "colab_type": "code",
        "colab": {}
      },
      "cell_type": "code",
      "source": [
        "labels, texts = [], []\n",
        "for i, line in enumerate(str(data).split(\"\\n\")):\n",
        "    content = line.replace(\"\\\\\",\"\").split()\n",
        "    labels.append(content[0])\n",
        "    texts.append(\" \".join(content[1:]))\n",
        "\n",
        "# create a dataframe using texts and lables\n",
        "trainDF = pd.DataFrame()\n",
        "trainDF['text'] = texts\n",
        "trainDF['label'] = labels"
      ],
      "execution_count": 0,
      "outputs": []
    },
    {
      "metadata": {
        "id": "4fqssraY5nIQ",
        "colab_type": "code",
        "colab": {
          "base_uri": "https://localhost:8080/",
          "height": 204
        },
        "outputId": "b80b1bf3-e23b-44de-d431-338337ac6f0e"
      },
      "cell_type": "code",
      "source": [
        "trainDF.head()"
      ],
      "execution_count": 159,
      "outputs": [
        {
          "output_type": "execute_result",
          "data": {
            "text/html": [
              "<div>\n",
              "<style scoped>\n",
              "    .dataframe tbody tr th:only-of-type {\n",
              "        vertical-align: middle;\n",
              "    }\n",
              "\n",
              "    .dataframe tbody tr th {\n",
              "        vertical-align: top;\n",
              "    }\n",
              "\n",
              "    .dataframe thead th {\n",
              "        text-align: right;\n",
              "    }\n",
              "</style>\n",
              "<table border=\"1\" class=\"dataframe\">\n",
              "  <thead>\n",
              "    <tr style=\"text-align: right;\">\n",
              "      <th></th>\n",
              "      <th>text</th>\n",
              "      <th>label</th>\n",
              "    </tr>\n",
              "  </thead>\n",
              "  <tbody>\n",
              "    <tr>\n",
              "      <th>0</th>\n",
              "      <td>Stuning even for the non-gamer: This sound tra...</td>\n",
              "      <td>__label__2</td>\n",
              "    </tr>\n",
              "    <tr>\n",
              "      <th>1</th>\n",
              "      <td>The best soundtrack ever to anything.: I'm rea...</td>\n",
              "      <td>__label__2</td>\n",
              "    </tr>\n",
              "    <tr>\n",
              "      <th>2</th>\n",
              "      <td>Amazing!: This soundtrack is my favorite music...</td>\n",
              "      <td>__label__2</td>\n",
              "    </tr>\n",
              "    <tr>\n",
              "      <th>3</th>\n",
              "      <td>Excellent Soundtrack: I truly like this soundt...</td>\n",
              "      <td>__label__2</td>\n",
              "    </tr>\n",
              "    <tr>\n",
              "      <th>4</th>\n",
              "      <td>Remember, Pull Your Jaw Off The Floor After He...</td>\n",
              "      <td>__label__2</td>\n",
              "    </tr>\n",
              "  </tbody>\n",
              "</table>\n",
              "</div>"
            ],
            "text/plain": [
              "                                                text       label\n",
              "0  Stuning even for the non-gamer: This sound tra...  __label__2\n",
              "1  The best soundtrack ever to anything.: I'm rea...  __label__2\n",
              "2  Amazing!: This soundtrack is my favorite music...  __label__2\n",
              "3  Excellent Soundtrack: I truly like this soundt...  __label__2\n",
              "4  Remember, Pull Your Jaw Off The Floor After He...  __label__2"
            ]
          },
          "metadata": {
            "tags": []
          },
          "execution_count": 159
        }
      ]
    },
    {
      "metadata": {
        "id": "hlysZrvUh6kS",
        "colab_type": "text"
      },
      "cell_type": "markdown",
      "source": [
        "## Text PreProcessing (Cleaning)\n",
        "\n",
        "Here we focus on cleaning up text by:\n",
        "- Remove upper case characters\n",
        "- Remove HTML tags\n",
        "- Remove punctuation\n",
        "- Remove special characters"
      ]
    },
    {
      "metadata": {
        "id": "WU7r4BnEiKFG",
        "colab_type": "code",
        "colab": {}
      },
      "cell_type": "code",
      "source": [
        "#remove upper cases letters\n",
        "def lower_case(text):\n",
        "  return text.str.lower()\n",
        "\n",
        "#remove html tags\n",
        "def strip_html(text):\n",
        "  soup = BeautifulSoup(text, \"html.parser\")\n",
        "  stripped_text = soup.get_text()\n",
        "  return stripped_text\n",
        "\n",
        "#remove punctuation\n",
        "def remove_punctuation(text):\n",
        "  return text.translate(str.maketrans('','',string.punctuation))\n",
        "\n",
        "#remove special characters\n",
        "def remove_spec(text):\n",
        "  return text.replace(r'^[*-]', '')\n",
        "\n",
        "#remove accented characters\n",
        "def remove_accented_chars(text):\n",
        "  nfkd_form = unicodedata.normalize('NFKD', text)\n",
        "  only_ascii = nfkd_form.encode('ASCII', 'ignore').decode('utf-8', 'ignore')\n",
        "  return only_ascii"
      ],
      "execution_count": 0,
      "outputs": []
    },
    {
      "metadata": {
        "id": "wf98JtBniMeI",
        "colab_type": "code",
        "colab": {}
      },
      "cell_type": "code",
      "source": [
        "# now to apply all the text cleaning methods\n",
        "\n",
        "trainDF['text'] = lower_case(trainDF['text'])\n",
        "\n",
        "trainDF['text'] = trainDF['text'].apply(strip_html)\n",
        "\n",
        "trainDF['text'] = trainDF['text'].apply(remove_punctuation)\n",
        "\n",
        "trainDF['text'] = trainDF['text'].apply(remove_spec)\n"
      ],
      "execution_count": 0,
      "outputs": []
    },
    {
      "metadata": {
        "id": "kCjoZwQkIWye",
        "colab_type": "text"
      },
      "cell_type": "markdown",
      "source": [
        "## Train/Test Split\n",
        "\n",
        "We need to split the dataset into a training and test dataset. It is common practice to use a 80/20 split between train/test dataset. One should split the dataset before using any resampling methods (up-sample/under-sample) to resolved a class imbalance to reduce the chance of deplicating observations. "
      ]
    },
    {
      "metadata": {
        "id": "MvNqpWz_JE-t",
        "colab_type": "code",
        "colab": {}
      },
      "cell_type": "code",
      "source": [
        "#split into train and test set (default is 25%)\n",
        "#set seed for consistency\n",
        "train_x, valid_x, train_y, valid_y = model_selection.train_test_split(trainDF['text'], trainDF['label'], test_size=0.25, random_state=1)"
      ],
      "execution_count": 0,
      "outputs": []
    },
    {
      "metadata": {
        "id": "YyHcCjTCB6LC",
        "colab_type": "text"
      },
      "cell_type": "markdown",
      "source": [
        "## Balance Classes\n",
        "\n",
        "It is important to check that target category classes are balanced. IThere is much debate as to why it is better to have balanced classes, but without balanced classes one will train a model that is bias. As a conclusion, artificial balancing is rarely useful if training set is large enough.In my personal experience - balancing classes has resulted in better model performance. \n",
        "\n",
        "In this case the classes are close enough to called \"balanced\" and thus no resampling mehods are required. "
      ]
    },
    {
      "metadata": {
        "id": "5w-8UBGFB_CK",
        "colab_type": "code",
        "colab": {
          "base_uri": "https://localhost:8080/",
          "height": 68
        },
        "outputId": "d6120c47-8068-493d-fc88-c1028de280c6"
      },
      "cell_type": "code",
      "source": [
        "#number of classes\n",
        "trainDF['label'].value_counts()"
      ],
      "execution_count": 82,
      "outputs": [
        {
          "output_type": "execute_result",
          "data": {
            "text/plain": [
              "__label__1    5097\n",
              "__label__2    4903\n",
              "Name: label, dtype: int64"
            ]
          },
          "metadata": {
            "tags": []
          },
          "execution_count": 82
        }
      ]
    },
    {
      "metadata": {
        "id": "RCuKh9cW6Iec",
        "colab_type": "code",
        "colab": {
          "base_uri": "https://localhost:8080/",
          "height": 350
        },
        "outputId": "ef8a56c9-8048-428e-bdd5-649456a311ab"
      },
      "cell_type": "code",
      "source": [
        "#number of classes\n",
        "sns.countplot(x=\"label\" ,data=trainDF, ax=None)"
      ],
      "execution_count": 83,
      "outputs": [
        {
          "output_type": "stream",
          "text": [
            "/usr/local/lib/python3.6/dist-packages/seaborn/categorical.py:1428: FutureWarning: remove_na is deprecated and is a private function. Do not use.\n",
            "  stat_data = remove_na(group_data)\n"
          ],
          "name": "stderr"
        },
        {
          "output_type": "execute_result",
          "data": {
            "text/plain": [
              "<matplotlib.axes._subplots.AxesSubplot at 0x7fbd9aad6b00>"
            ]
          },
          "metadata": {
            "tags": []
          },
          "execution_count": 83
        },
        {
          "output_type": "display_data",
          "data": {
            "image/png": "[encoded data removed]",
            "text/plain": [
              "<Figure size 432x288 with 1 Axes>"
            ]
          },
          "metadata": {
            "tags": []
          }
        }
      ]
    },
    {
      "metadata": {
        "id": "6HXOBAVI69-L",
        "colab_type": "code",
        "colab": {
          "base_uri": "https://localhost:8080/",
          "height": 68
        },
        "outputId": "d8c1c7fc-0367-4704-bfe4-52feff415864"
      },
      "cell_type": "code",
      "source": [
        "#Number of unique words\n",
        "trainDF['label'].value_counts()"
      ],
      "execution_count": 84,
      "outputs": [
        {
          "output_type": "execute_result",
          "data": {
            "text/plain": [
              "__label__1    5097\n",
              "__label__2    4903\n",
              "Name: label, dtype: int64"
            ]
          },
          "metadata": {
            "tags": []
          },
          "execution_count": 84
        }
      ]
    },
    {
      "metadata": {
        "id": "b5yKduXlS-HH",
        "colab_type": "text"
      },
      "cell_type": "markdown",
      "source": [
        "## Exploratory Analysis\n",
        "\n",
        "Here we look at interesting insights within our data as well as the some of the keys features that shape it. "
      ]
    },
    {
      "metadata": {
        "id": "dAZlbS9vY5Lu",
        "colab_type": "code",
        "colab": {
          "base_uri": "https://localhost:8080/",
          "height": 34
        },
        "outputId": "366a81cb-9efe-4f26-ca7a-d394b17aadeb"
      },
      "cell_type": "code",
      "source": [
        "#word count\n",
        "all_text = trainDF['text'].values\n",
        "\n",
        "from keras.preprocessing.text import text_to_word_sequence\n",
        "# estimate the size of the vocabulary\n",
        "words = set(text_to_word_sequence(str(all_text)))\n",
        "vocab_size = len(words)\n",
        "print(vocab_size)\n"
      ],
      "execution_count": 164,
      "outputs": [
        {
          "output_type": "stream",
          "text": [
            "295\n"
          ],
          "name": "stdout"
        }
      ]
    },
    {
      "metadata": {
        "id": "bBIqKsZrZf7T",
        "colab_type": "code",
        "colab": {
          "base_uri": "https://localhost:8080/",
          "height": 34
        },
        "outputId": "c23ee814-ad8d-4667-d50f-45936a1542c1"
      },
      "cell_type": "code",
      "source": [
        "# load whole corpus of words\n",
        "all_text = trainDF['text'].values\n",
        "\n",
        "test = []\n",
        "\n",
        "for i in all_text:\n",
        "  new = i.split()\n",
        "  test.extend(new)\n",
        "  \n",
        "len(set(test))"
      ],
      "execution_count": 165,
      "outputs": [
        {
          "output_type": "execute_result",
          "data": {
            "text/plain": [
              "40180"
            ]
          },
          "metadata": {
            "tags": []
          },
          "execution_count": 165
        }
      ]
    },
    {
      "metadata": {
        "id": "9Ffjz9R4rBgX",
        "colab_type": "code",
        "colab": {
          "base_uri": "https://localhost:8080/",
          "height": 34
        },
        "outputId": "c905c41c-5209-4ad4-c7cd-3978e66f3cef"
      },
      "cell_type": "code",
      "source": [
        "# load whole corpus of words\n",
        "all_text = trainDF['text'].values\n",
        "\n",
        "test = []\n",
        "\n",
        "for i in all_text:\n",
        "  new = text_to_word_sequence(i)\n",
        "  test.extend(new)\n",
        "  \n",
        "len(set(test))"
      ],
      "execution_count": 166,
      "outputs": [
        {
          "output_type": "execute_result",
          "data": {
            "text/plain": [
              "40180"
            ]
          },
          "metadata": {
            "tags": []
          },
          "execution_count": 166
        }
      ]
    },
    {
      "metadata": {
        "id": "O7s3nId5rzVP",
        "colab_type": "code",
        "colab": {}
      },
      "cell_type": "code",
      "source": [
        "word_counts = {}\n",
        "\n",
        "# iterate over each sentence in the corpus\n",
        "for text in all_text:\n",
        "  \n",
        "  for word in text.split():\n",
        "    \n",
        "    # if the word isn't in the dictionary\n",
        "    if word not in word_counts.keys():\n",
        "      # create a new index for it, and add 1 to its count\n",
        "      word_counts[word] = 1\n",
        "    \n",
        "    # if word is already in the dictionary\n",
        "    else:\n",
        "      # find its key, and add 1 to its count\n",
        "      word_counts[word] += 1\n",
        "\n",
        "# create mappings\n",
        "stoi = {}  # string to index\n",
        "itos = {}  # index to string\n",
        "\n",
        "idx = 1\n",
        "\n",
        "# order the words from most to least common\n",
        "for word in sorted(word_counts, key=word_counts.get, reverse=True):\n",
        "\n",
        "    if word not in stoi.keys():\n",
        "      stoi[word] = idx\n",
        "      itos[idx] = word\n",
        "      idx += 1"
      ],
      "execution_count": 0,
      "outputs": []
    },
    {
      "metadata": {
        "id": "WorQjz8IrvG_",
        "colab_type": "code",
        "colab": {
          "base_uri": "https://localhost:8080/",
          "height": 34
        },
        "outputId": "1a90472f-968e-47d2-c196-9963058d86f4"
      },
      "cell_type": "code",
      "source": [
        "# how many words in the corpus?\n",
        "vocabulary_size = len(stoi.keys())\n",
        "print(vocabulary_size)"
      ],
      "execution_count": 168,
      "outputs": [
        {
          "output_type": "stream",
          "text": [
            "40180\n"
          ],
          "name": "stdout"
        }
      ]
    },
    {
      "metadata": {
        "id": "2wd_8GsvvCGO",
        "colab_type": "code",
        "colab": {}
      },
      "cell_type": "code",
      "source": [
        ""
      ],
      "execution_count": 0,
      "outputs": []
    }
  ]
}