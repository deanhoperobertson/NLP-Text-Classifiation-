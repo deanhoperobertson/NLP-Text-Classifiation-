{
  "nbformat": 4,
  "nbformat_minor": 0,
  "metadata": {
    "colab": {
      "name": "Text Preprocessing.ipynb",
      "version": "0.3.2",
      "provenance": [],
      "include_colab_link": true
    },
    "kernelspec": {
      "name": "python3",
      "display_name": "Python 3"
    }
  },
  "cells": [
    {
      "cell_type": "markdown",
      "metadata": {
        "id": "view-in-github",
        "colab_type": "text"
      },
      "source": [
        "<a href=\"https://colab.research.google.com/github/deanhoperobertson/NLP-Text-Classifiation-/blob/master/Text_Preprocessing.ipynb\" target=\"_parent\"><img src=\"https://colab.research.google.com/assets/colab-badge.svg\" alt=\"Open In Colab\"/></a>"
      ]
    },
    {
      "metadata": {
        "id": "R4B85UiN5cW_",
        "colab_type": "code",
        "colab": {}
      },
      "cell_type": "code",
      "source": [
        "import urllib.request\n",
        "import pandas as pd\n",
        "import urllib\n",
        "\n",
        "#vizualization\n",
        "import seaborn as sns\n",
        "import matplotlib.pyplot as plt\n",
        "%matplotlib inline\n",
        "\n",
        "#Text Preprocessing\n",
        "from bs4 import BeautifulSoup\n",
        "import unicodedata\n",
        "import string\n",
        "import re\n",
        "\n",
        "from sklearn import model_selection\n",
        "from sklearn.model_selection import train_test_split\n",
        "\n"
      ],
      "execution_count": 0,
      "outputs": []
    },
    {
      "metadata": {
        "id": "9fdcNqjN5dJ1",
        "colab_type": "code",
        "colab": {}
      },
      "cell_type": "code",
      "source": [
        "#import data from my github repo\n",
        "url = \"https://raw.githubusercontent.com/deanhoperobertson/NLP-Text-Classifiation-/master/corpus.txt\"\n",
        "data = urllib.request.urlopen(url).read()\n",
        "data = data.decode('utf-8')"
      ],
      "execution_count": 0,
      "outputs": []
    },
    {
      "metadata": {
        "id": "n0KLPZ5v5h1F",
        "colab_type": "code",
        "colab": {}
      },
      "cell_type": "code",
      "source": [
        "labels, texts = [], []\n",
        "for i, line in enumerate(str(data).split(\"\\n\")):\n",
        "    content = line.replace(\"\\\\\",\"\").split()\n",
        "    labels.append(content[0])\n",
        "    texts.append(\" \".join(content[1:]))\n",
        "\n",
        "# create a dataframe using texts and lables\n",
        "trainDF = pd.DataFrame()\n",
        "trainDF['text'] = texts\n",
        "trainDF['label'] = labels"
      ],
      "execution_count": 0,
      "outputs": []
    },
    {
      "metadata": {
        "id": "4fqssraY5nIQ",
        "colab_type": "code",
        "colab": {
          "base_uri": "https://localhost:8080/",
          "height": 204
        },
        "outputId": "14ef7e62-3a66-432a-ae95-00e7fad1e2f3"
      },
      "cell_type": "code",
      "source": [
        "trainDF.head()"
      ],
      "execution_count": 4,
      "outputs": [
        {
          "output_type": "execute_result",
          "data": {
            "text/html": [
              "<div>\n",
              "<style scoped>\n",
              "    .dataframe tbody tr th:only-of-type {\n",
              "        vertical-align: middle;\n",
              "    }\n",
              "\n",
              "    .dataframe tbody tr th {\n",
              "        vertical-align: top;\n",
              "    }\n",
              "\n",
              "    .dataframe thead th {\n",
              "        text-align: right;\n",
              "    }\n",
              "</style>\n",
              "<table border=\"1\" class=\"dataframe\">\n",
              "  <thead>\n",
              "    <tr style=\"text-align: right;\">\n",
              "      <th></th>\n",
              "      <th>text</th>\n",
              "      <th>label</th>\n",
              "    </tr>\n",
              "  </thead>\n",
              "  <tbody>\n",
              "    <tr>\n",
              "      <th>0</th>\n",
              "      <td>Stuning even for the non-gamer: This sound tra...</td>\n",
              "      <td>__label__2</td>\n",
              "    </tr>\n",
              "    <tr>\n",
              "      <th>1</th>\n",
              "      <td>The best soundtrack ever to anything.: I'm rea...</td>\n",
              "      <td>__label__2</td>\n",
              "    </tr>\n",
              "    <tr>\n",
              "      <th>2</th>\n",
              "      <td>Amazing!: This soundtrack is my favorite music...</td>\n",
              "      <td>__label__2</td>\n",
              "    </tr>\n",
              "    <tr>\n",
              "      <th>3</th>\n",
              "      <td>Excellent Soundtrack: I truly like this soundt...</td>\n",
              "      <td>__label__2</td>\n",
              "    </tr>\n",
              "    <tr>\n",
              "      <th>4</th>\n",
              "      <td>Remember, Pull Your Jaw Off The Floor After He...</td>\n",
              "      <td>__label__2</td>\n",
              "    </tr>\n",
              "  </tbody>\n",
              "</table>\n",
              "</div>"
            ],
            "text/plain": [
              "                                                text       label\n",
              "0  Stuning even for the non-gamer: This sound tra...  __label__2\n",
              "1  The best soundtrack ever to anything.: I'm rea...  __label__2\n",
              "2  Amazing!: This soundtrack is my favorite music...  __label__2\n",
              "3  Excellent Soundtrack: I truly like this soundt...  __label__2\n",
              "4  Remember, Pull Your Jaw Off The Floor After He...  __label__2"
            ]
          },
          "metadata": {
            "tags": []
          },
          "execution_count": 4
        }
      ]
    },
    {
      "metadata": {
        "id": "hlysZrvUh6kS",
        "colab_type": "text"
      },
      "cell_type": "markdown",
      "source": [
        "## Text PreProcessing (Cleaning)\n",
        "\n",
        "Here we focus on cleaning up text by:\n",
        "- Remove upper case characters\n",
        "- Remove HTML tags\n",
        "- Remove punctuation\n",
        "- Remove special characters"
      ]
    },
    {
      "metadata": {
        "id": "WU7r4BnEiKFG",
        "colab_type": "code",
        "colab": {}
      },
      "cell_type": "code",
      "source": [
        "#remove upper cases letters\n",
        "def lower_case(text):\n",
        "  return text.str.lower()\n",
        "\n",
        "#remove html tags\n",
        "def strip_html(text):\n",
        "  soup = BeautifulSoup(text, \"html.parser\")\n",
        "  stripped_text = soup.get_text()\n",
        "  return stripped_text\n",
        "\n",
        "#remove punctuation\n",
        "def remove_punctuation(text):\n",
        "  return ''.join([char for char in text if char == '-' or char not in string.punctuation])\n",
        "\n",
        "#remove special characters\n",
        "def remove_spec(text):\n",
        "  return text.replace(r'^[*-]', '')\n",
        "\n",
        "#remove accented characters\n",
        "def remove_accented_chars(text):\n",
        "  nfkd_form = unicodedata.normalize('NFKD', text)\n",
        "  only_ascii = nfkd_form.encode('ASCII', 'ignore').decode('utf-8', 'ignore')\n",
        "  return only_ascii"
      ],
      "execution_count": 0,
      "outputs": []
    },
    {
      "metadata": {
        "id": "wf98JtBniMeI",
        "colab_type": "code",
        "colab": {
          "base_uri": "https://localhost:8080/",
          "height": 1071
        },
        "outputId": "9af04ff5-8d7d-4fad-981f-452ad12ce7a9"
      },
      "cell_type": "code",
      "source": [
        "# now to apply all the text cleaning methods\n",
        "\n",
        "trainDF['text'] = lower_case(trainDF['text'])\n",
        "\n",
        "trainDF['text'] = trainDF['text'].apply(strip_html)\n",
        "\n",
        "trainDF['text'] = trainDF['text'].apply(remove_punctuation)\n",
        "\n",
        "trainDF['text'] = trainDF['text'].apply(remove_spec)\n"
      ],
      "execution_count": 74,
      "outputs": [
        {
          "output_type": "execute_result",
          "data": {
            "text/plain": [
              "0       stuning even for the non-gamer this sound trac...\n",
              "1       the best soundtrack ever to anything im readin...\n",
              "2       amazing this soundtrack is my favorite music o...\n",
              "3       excellent soundtrack i truly like this soundtr...\n",
              "4       remember pull your jaw off the floor after hea...\n",
              "5       an absolute masterpiece i am quite sure any of...\n",
              "6       buyer beware this is a self-published book and...\n",
              "7       glorious story i loved whisper of the wicked s...\n",
              "8       a five star book i just finished reading whisp...\n",
              "9       whispers of the wicked saints this was a easy ...\n",
              "10      the worst a complete waste of time typographic...\n",
              "11      great book this was a great booki just could n...\n",
              "12      great read i thought this book was brilliant b...\n",
              "13      oh please i guess you have to be a romance nov...\n",
              "14      awful beyond belief i feel i have to write to ...\n",
              "15      dont try to fool us with fake reviews its glar...\n",
              "16      a romantic zen baseball comedy when you hear f...\n",
              "17      fashionable compression stockings after i had ...\n",
              "18      jobst ultrasheer thigh high excellent product ...\n",
              "19      sizes recomended in the size chart are not rea...\n",
              "20      mens ultrasheer this model may be ok for seden...\n",
              "21      delicious cookie mix i thought it was funny th...\n",
              "22      another abysmal digital copy rather than scrat...\n",
              "23      a fascinating insight into the life of modern ...\n",
              "24      i liked this album more then i thought i would...\n",
              "25      problem with charging smaller aaas i have had ...\n",
              "26      works but not as advertised i bought one of th...\n",
              "27      disappointed i read the reviewsmade my purchas...\n",
              "28      oh dear i was excited to find a book ostensibl...\n",
              "29      based on the reviews here i bought one and im ...\n",
              "                              ...                        \n",
              "9970    beware the product does give the surround soun...\n",
              "9971    happy i only wasted money for 2 music experien...\n",
              "9972    oh my goodness if this is a single release tha...\n",
              "9973    the dummy fats is hysterical all i can really ...\n",
              "9974    dummy scared the be-jesus out of me oh god do ...\n",
              "9975    more ham-o-rama theatrics from sir anthony whe...\n",
              "9976    take the knife up the hill and rent this movie...\n",
              "9977    magic ads were scary though the movie was frig...\n",
              "9978    deliciously disturbing highly underestimated f...\n",
              "9979    magic if you like anthony hopkins this is one ...\n",
              "9980    magic on blu ray starrring anthony hopkins and...\n",
              "9981    a ventriloquists nightmare magic is a timeless...\n",
              "9982    great movie massacred by tape quality one of m...\n",
              "9983    early hopkins story still sends chills through...\n",
              "9984    the only dummy is the writer magic poses the q...\n",
              "9985    hes no dummy   viewing magic is when i first b...\n",
              "9986    amazingly suspenseful psychological thriller t...\n",
              "9987    a truly great horror movie i saw this film las...\n",
              "9988    frightening movie with superb acting by sir ho...\n",
              "9989    classic i got this for my dad it is super cree...\n",
              "9990    psychological thriller this movie really scare...\n",
              "9991    a little more money than what i expected to sp...\n",
              "9992    the silence of the dummies this is overall a r...\n",
              "9993    mauled again - killing bears to enrich himself...\n",
              "9994    sorry jim as a former realtor mr cole owes the...\n",
              "9995    a revelation of life in small town america in ...\n",
              "9996    great biography of a very interesting journali...\n",
              "9997    interesting subject poor presentation youd be ...\n",
              "9998    dont buy the box looked used and it is obvious...\n",
              "9999    beautiful pen and fast delivery the pen was sh...\n",
              "Name: text, Length: 10000, dtype: object"
            ]
          },
          "metadata": {
            "tags": []
          },
          "execution_count": 74
        }
      ]
    },
    {
      "metadata": {
        "id": "kCjoZwQkIWye",
        "colab_type": "text"
      },
      "cell_type": "markdown",
      "source": [
        "## Train/Test Split\n",
        "\n",
        "We need to split the dataset into a training and test dataset. It is common practice to use a 80/20 split between train/test dataset. One should split the dataset before using any resampling methods (up-sample/under-sample) to resolved a class imbalance to reduce the chance of deplicating observations. "
      ]
    },
    {
      "metadata": {
        "id": "MvNqpWz_JE-t",
        "colab_type": "code",
        "colab": {}
      },
      "cell_type": "code",
      "source": [
        "#split into train and test set (default is 25%)\n",
        "#set seed for consistency\n",
        "train_x, valid_x, train_y, valid_y = model_selection.train_test_split(trainDF['text'], trainDF['label'], test_size=0.25, random_state=1)"
      ],
      "execution_count": 0,
      "outputs": []
    },
    {
      "metadata": {
        "id": "YyHcCjTCB6LC",
        "colab_type": "text"
      },
      "cell_type": "markdown",
      "source": [
        "## Balance Classes\n",
        "\n",
        "It is important to check that target category classes are balanced. IThere is much debate as to why it is better to have balanced classes, but without balanced classes one will train a model that is bias. As a conclusion, artificial balancing is rarely useful if training set is large enough.In my personal experience - balancing classes has resulted in better model performance. \n",
        "\n",
        "In this case the classes are close enough to called \"balanced\" and thus no resampling mehods are required. "
      ]
    },
    {
      "metadata": {
        "id": "5w-8UBGFB_CK",
        "colab_type": "code",
        "colab": {
          "base_uri": "https://localhost:8080/",
          "height": 68
        },
        "outputId": "8c45e259-d2bd-41a6-9972-bfa57aa5b8e0"
      },
      "cell_type": "code",
      "source": [
        "#number of classes\n",
        "trainDF['label'].value_counts()"
      ],
      "execution_count": 20,
      "outputs": [
        {
          "output_type": "execute_result",
          "data": {
            "text/plain": [
              "__label__1    5097\n",
              "__label__2    4903\n",
              "Name: label, dtype: int64"
            ]
          },
          "metadata": {
            "tags": []
          },
          "execution_count": 20
        }
      ]
    },
    {
      "metadata": {
        "id": "RCuKh9cW6Iec",
        "colab_type": "code",
        "colab": {
          "base_uri": "https://localhost:8080/",
          "height": 432
        },
        "outputId": "ced7b574-c1d1-4734-c72a-e46707e0b716"
      },
      "cell_type": "code",
      "source": [
        "#number of classes\n",
        "sns.countplot(x=\"label\" ,data=trainDF, ax=None)"
      ],
      "execution_count": 16,
      "outputs": [
        {
          "output_type": "stream",
          "text": [
            "/usr/local/lib/python3.6/dist-packages/seaborn/categorical.py:1428: FutureWarning: remove_na is deprecated and is a private function. Do not use.\n",
            "  stat_data = remove_na(group_data)\n"
          ],
          "name": "stderr"
        },
        {
          "output_type": "execute_result",
          "data": {
            "text/plain": [
              "<matplotlib.axes._subplots.AxesSubplot at 0x7fbd9d287cc0>"
            ]
          },
          "metadata": {
            "tags": []
          },
          "execution_count": 16
        },
        {
          "output_type": "display_data",
          "data": {
            "image/png": "[encoded data removed]",
            "text/plain": [
              "<Figure size 576x396 with 1 Axes>"
            ]
          },
          "metadata": {
            "tags": []
          }
        }
      ]
    },
    {
      "metadata": {
        "id": "6HXOBAVI69-L",
        "colab_type": "code",
        "colab": {
          "base_uri": "https://localhost:8080/",
          "height": 68
        },
        "outputId": "6c3b0efc-e7dd-4ac0-a381-a1b36c242245"
      },
      "cell_type": "code",
      "source": [
        "#Number of unique words\n",
        "trainDF['label'].value_counts()"
      ],
      "execution_count": 19,
      "outputs": [
        {
          "output_type": "execute_result",
          "data": {
            "text/plain": [
              "__label__1    5097\n",
              "__label__2    4903\n",
              "Name: label, dtype: int64"
            ]
          },
          "metadata": {
            "tags": []
          },
          "execution_count": 19
        }
      ]
    },
    {
      "metadata": {
        "id": "b5yKduXlS-HH",
        "colab_type": "text"
      },
      "cell_type": "markdown",
      "source": [
        "## Text PreProcessing (Cleaning)\n",
        "\n",
        "Here we focus on cleaning up text by:\n",
        "- Remove upper case characters\n",
        "- Remove HTML tags\n",
        "- Remove punctuation\n",
        "- Remove special characters"
      ]
    },
    {
      "metadata": {
        "id": "dAZlbS9vY5Lu",
        "colab_type": "code",
        "colab": {
          "base_uri": "https://localhost:8080/",
          "height": 54
        },
        "outputId": "85deb0df-786d-49e7-9238-228486fe7798"
      },
      "cell_type": "code",
      "source": [
        "remove_punctuation(trainDF['text'].head())"
      ],
      "execution_count": 51,
      "outputs": [
        {
          "output_type": "execute_result",
          "data": {
            "text/plain": [
              "'Stuning even for the non-gamer: This sound track was beautiful! It paints the senery in your mind so well I would recomend it even to people who hate vid. game music! I have played the game Chrono Cross but out of all of the games I have ever played it has the best music! It backs away from crude keyboarding and takes a fresher step with grate guitars and soulful orchestras. It would impress anyone who cares to listen! ^_^The best soundtrack ever to anything.: I\\'m reading a lot of reviews saying that this is the best \\'game soundtrack\\' and I figured that I\\'d write a review to disagree a bit. This in my opinino is Yasunori Mitsuda\\'s ultimate masterpiece. The music is timeless and I\\'m been listening to it for years now and its beauty simply refuses to fade.The price tag on this is pretty staggering I must say, but if you are going to buy any cd for this much money, this is the only one that I feel would be worth every penny.Amazing!: This soundtrack is my favorite music of all time, hands down. The intense sadness of \"Prisoners of Fate\" (which means all the more if you\\'ve played the game) and the hope in \"A Distant Promise\" and \"Girl who Stole the Star\" have been an important inspiration to me personally throughout my teen years. The higher energy tracks like \"Chrono Cross ~ Time\\'s Scar~\", \"Time of the Dreamwatch\", and \"Chronomantique\" (indefinably remeniscent of Chrono Trigger) are all absolutely superb as well.This soundtrack is amazing music, probably the best of this composer\\'s work (I haven\\'t heard the Xenogears soundtrack, so I can\\'t say for sure), and even if you\\'ve never played the game, it would be worth twice the price to buy it.I wish I could give it 6 stars.Excellent Soundtrack: I truly like this soundtrack and I enjoy video game music. I have played this game and most of the music on here I enjoy and it\\'s truly relaxing and peaceful.On disk one. my favorites are Scars Of Time, Between Life and Death, Forest Of Illusion, Fortress of Ancient Dragons, Lost Fragment, and Drowned Valley.Disk Two: The Draggons, Galdorb - Home, Chronomantique, Prisoners of Fate, Gale, and my girlfriend likes ZelbessDisk Three: The best of the three. Garden Of God, Chronopolis, Fates, Jellyfish sea, Burning Orphange, Dragon\\'s Prayer, Tower Of Stars, Dragon God, and Radical Dreamers - Unstealable Jewel.Overall, this is a excellent soundtrack and should be brought by those that like video game music.Xander CrossRemember, Pull Your Jaw Off The Floor After Hearing it: If you\\'ve played the game, you know how divine the music is! Every single song tells a story of the game, it\\'s that good! The greatest songs are without a doubt, Chrono Cross: Time\\'s Scar, Magical Dreamers: The Wind, The Stars, and the Sea and Radical Dreamers: Unstolen Jewel. (Translation varies) This music is perfect if you ask me, the best it can be. Yasunori Mitsuda just poured his heart on and wrote it down on paper.'"
            ]
          },
          "metadata": {
            "tags": []
          },
          "execution_count": 51
        }
      ]
    },
    {
      "metadata": {
        "id": "bBIqKsZrZf7T",
        "colab_type": "code",
        "colab": {}
      },
      "cell_type": "code",
      "source": [
        ""
      ],
      "execution_count": 0,
      "outputs": []
    }
  ]
}