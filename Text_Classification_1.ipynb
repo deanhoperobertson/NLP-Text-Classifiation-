{
  "nbformat": 4,
  "nbformat_minor": 0,
  "metadata": {
    "colab": {
      "name": "Text Classification 1.ipynb",
      "version": "0.3.2",
      "provenance": [],
      "collapsed_sections": [],
      "include_colab_link": true
    },
    "kernelspec": {
      "name": "python3",
      "display_name": "Python 3"
    }
  },
  "cells": [
    {
      "cell_type": "markdown",
      "metadata": {
        "id": "view-in-github",
        "colab_type": "text"
      },
      "source": [
        "<a href=\"https://colab.research.google.com/github/deanhoperobertson/NLP-Text-Classifiation-/blob/master/Text_Classification_1.ipynb\" target=\"_parent\"><img src=\"https://colab.research.google.com/assets/colab-badge.svg\" alt=\"Open In Colab\"/></a>"
      ]
    },
    {
      "metadata": {
        "id": "T6WVgphTn67y",
        "colab_type": "text"
      },
      "cell_type": "markdown",
      "source": [
        "## Amazon Reviews "
      ]
    },
    {
      "metadata": {
        "id": "w3w5vvVYn4yQ",
        "colab_type": "code",
        "colab": {}
      },
      "cell_type": "code",
      "source": [
        "import urllib.request\n",
        "import pandas as pd\n",
        "import urllib\n",
        "from sklearn import model_selection, preprocessing\n",
        "\n",
        "#Feature Engineering\n",
        "from sklearn.feature_extraction.text import CountVectorizer"
      ],
      "execution_count": 0,
      "outputs": []
    },
    {
      "metadata": {
        "id": "78pugyJOynLK",
        "colab_type": "code",
        "colab": {}
      },
      "cell_type": "code",
      "source": [
        "#import data from my github repo\n",
        "url = \"https://raw.githubusercontent.com/deanhoperobertson/NLP-Text-Classifiation-/master/corpus\"\n",
        "data = urllib.request.urlopen(url).read()"
      ],
      "execution_count": 0,
      "outputs": []
    },
    {
      "metadata": {
        "id": "7PAkE3eNzVqy",
        "colab_type": "code",
        "colab": {}
      },
      "cell_type": "code",
      "source": [
        "labels, texts = [], []\n",
        "for i, line in enumerate(str(data).split(\"\\\\n\")):\n",
        "    content = line.split()\n",
        "    labels.append(content[0])\n",
        "    texts.append(\" \".join(content[1:]))\n",
        "\n",
        "# create a dataframe using texts and lables\n",
        "trainDF = pd.DataFrame()\n",
        "trainDF['text'] = texts\n",
        "trainDF['label'] = labels"
      ],
      "execution_count": 0,
      "outputs": []
    },
    {
      "metadata": {
        "id": "h5gcD26U0fhV",
        "colab_type": "code",
        "outputId": "43c935cd-8607-47db-acfb-3f896b921bb4",
        "colab": {
          "base_uri": "https://localhost:8080/",
          "height": 204
        }
      },
      "cell_type": "code",
      "source": [
        "trainDF.head()"
      ],
      "execution_count": 27,
      "outputs": [
        {
          "output_type": "execute_result",
          "data": {
            "text/html": [
              "<div>\n",
              "<style scoped>\n",
              "    .dataframe tbody tr th:only-of-type {\n",
              "        vertical-align: middle;\n",
              "    }\n",
              "\n",
              "    .dataframe tbody tr th {\n",
              "        vertical-align: top;\n",
              "    }\n",
              "\n",
              "    .dataframe thead th {\n",
              "        text-align: right;\n",
              "    }\n",
              "</style>\n",
              "<table border=\"1\" class=\"dataframe\">\n",
              "  <thead>\n",
              "    <tr style=\"text-align: right;\">\n",
              "      <th></th>\n",
              "      <th>text</th>\n",
              "      <th>label</th>\n",
              "    </tr>\n",
              "  </thead>\n",
              "  <tbody>\n",
              "    <tr>\n",
              "      <th>0</th>\n",
              "      <td>Stuning even for the non-gamer: This sound tra...</td>\n",
              "      <td>b'__label__2</td>\n",
              "    </tr>\n",
              "    <tr>\n",
              "      <th>1</th>\n",
              "      <td>The best soundtrack ever to anything.: I\\'m re...</td>\n",
              "      <td>__label__2</td>\n",
              "    </tr>\n",
              "    <tr>\n",
              "      <th>2</th>\n",
              "      <td>Amazing!: This soundtrack is my favorite music...</td>\n",
              "      <td>__label__2</td>\n",
              "    </tr>\n",
              "    <tr>\n",
              "      <th>3</th>\n",
              "      <td>Excellent Soundtrack: I truly like this soundt...</td>\n",
              "      <td>__label__2</td>\n",
              "    </tr>\n",
              "    <tr>\n",
              "      <th>4</th>\n",
              "      <td>Remember, Pull Your Jaw Off The Floor After He...</td>\n",
              "      <td>__label__2</td>\n",
              "    </tr>\n",
              "  </tbody>\n",
              "</table>\n",
              "</div>"
            ],
            "text/plain": [
              "                                                text         label\n",
              "0  Stuning even for the non-gamer: This sound tra...  b'__label__2\n",
              "1  The best soundtrack ever to anything.: I\\'m re...    __label__2\n",
              "2  Amazing!: This soundtrack is my favorite music...    __label__2\n",
              "3  Excellent Soundtrack: I truly like this soundt...    __label__2\n",
              "4  Remember, Pull Your Jaw Off The Floor After He...    __label__2"
            ]
          },
          "metadata": {
            "tags": []
          },
          "execution_count": 27
        }
      ]
    },
    {
      "metadata": {
        "id": "5h20wHW3Rap5",
        "colab_type": "code",
        "colab": {}
      },
      "cell_type": "code",
      "source": [
        "#split into train and test set (default is 25%)\n",
        "#set seed for consistency\n",
        "train_x, valid_x, train_y, valid_y = model_selection.train_test_split(trainDF['text'], trainDF['label'], test_size=0.25, random_state=1)\n"
      ],
      "execution_count": 0,
      "outputs": []
    },
    {
      "metadata": {
        "id": "gq9BOx5llPh3",
        "colab_type": "code",
        "colab": {}
      },
      "cell_type": "code",
      "source": [
        "# encode target labels into intergers between 0 - no.classes\n",
        "encoder = preprocessing.LabelEncoder()\n",
        "train_y = encoder.fit_transform(train_y)\n",
        "valid_y = encoder.fit_transform(valid_y)"
      ],
      "execution_count": 0,
      "outputs": []
    },
    {
      "metadata": {
        "id": "QVADyn6ioWXk",
        "colab_type": "text"
      },
      "cell_type": "markdown",
      "source": [
        "## Feature Engineeering"
      ]
    },
    {
      "metadata": {
        "id": "-uPKO9PKt_sH",
        "colab_type": "text"
      },
      "cell_type": "markdown",
      "source": [
        "Now we need to convert the worded sentences into vectors by replacing the words with numercil representation. \n",
        "\n",
        "for Example:\n",
        "\"The cat sat on the hat\" = {1,3,10,7,1,12}\n",
        "\n",
        "This can be done in a number of ways such as:\n",
        "-  CountVectorizer (Bag of Words)\n",
        "- TF-IDF Matrix\n",
        "\n"
      ]
    },
    {
      "metadata": {
        "id": "zbk8yG5Gz4gj",
        "colab_type": "text"
      },
      "cell_type": "markdown",
      "source": [
        "### CountVectorizer"
      ]
    },
    {
      "metadata": {
        "id": "Uq1xfy220Amj",
        "colab_type": "code",
        "colab": {}
      },
      "cell_type": "code",
      "source": [
        "# instantiate a count vectorizer object to tokenize on a word level\n",
        "count_vect = CountVectorizer(analyzer='word', token_pattern=r'\\w{1,}', strip_accents =\"ascii\")\n",
        "count_vect.fit(trainDF['text'])\n",
        "\n",
        "#see the unique words being tokenized \n",
        "count_vect.get_feature_names()[1:10]\n",
        "\n",
        "#create a document term matrix using the \n",
        "xtrain_count =  count_vect.transform(train_x)\n",
        "xvalid_count =  count_vect.transform(valid_x)"
      ],
      "execution_count": 0,
      "outputs": []
    },
    {
      "metadata": {
        "id": "B3db1IlC1ns5",
        "colab_type": "code",
        "colab": {
          "base_uri": "https://localhost:8080/",
          "height": 253
        },
        "outputId": "16b35441-0071-4d57-f876-ba0a44e12311"
      },
      "cell_type": "code",
      "source": [
        "#view that DT matrix in dataframe\n",
        "pd.DataFrame(xtrain_count.toarray(), columns=count_vect.get_feature_names()).head()"
      ],
      "execution_count": 32,
      "outputs": [
        {
          "output_type": "execute_result",
          "data": {
            "text/html": [
              "<div>\n",
              "<style scoped>\n",
              "    .dataframe tbody tr th:only-of-type {\n",
              "        vertical-align: middle;\n",
              "    }\n",
              "\n",
              "    .dataframe tbody tr th {\n",
              "        vertical-align: top;\n",
              "    }\n",
              "\n",
              "    .dataframe thead th {\n",
              "        text-align: right;\n",
              "    }\n",
              "</style>\n",
              "<table border=\"1\" class=\"dataframe\">\n",
              "  <thead>\n",
              "    <tr style=\"text-align: right;\">\n",
              "      <th></th>\n",
              "      <th>0</th>\n",
              "      <th>00</th>\n",
              "      <th>000</th>\n",
              "      <th>001</th>\n",
              "      <th>002</th>\n",
              "      <th>00290</th>\n",
              "      <th>007</th>\n",
              "      <th>0070412901</th>\n",
              "      <th>0072316373</th>\n",
              "      <th>008</th>\n",
              "      <th>...</th>\n",
              "      <th>zzzz</th>\n",
              "      <th>zzzzz</th>\n",
              "      <th>zzzzzz</th>\n",
              "      <th>zzzzzzz</th>\n",
              "      <th>zzzzzzzzzz</th>\n",
              "      <th>zzzzzzzzzzzz</th>\n",
              "      <th>zzzzzzzzzzzzz</th>\n",
              "      <th>zzzzzzzzzzzzzzzzzz</th>\n",
              "      <th>zzzzzzzzzzzzzzzzzzzzz</th>\n",
              "      <th>zzzzzzzzzzzzzzzzzzzzzzzzzzzzzzzzzzzzzzzzzzzzzzzzzzzzzzzzzzzzzzzzzzzzzzzzzzzz</th>\n",
              "    </tr>\n",
              "  </thead>\n",
              "  <tbody>\n",
              "    <tr>\n",
              "      <th>0</th>\n",
              "      <td>0</td>\n",
              "      <td>0</td>\n",
              "      <td>0</td>\n",
              "      <td>0</td>\n",
              "      <td>0</td>\n",
              "      <td>0</td>\n",
              "      <td>0</td>\n",
              "      <td>0</td>\n",
              "      <td>0</td>\n",
              "      <td>0</td>\n",
              "      <td>...</td>\n",
              "      <td>0</td>\n",
              "      <td>0</td>\n",
              "      <td>0</td>\n",
              "      <td>0</td>\n",
              "      <td>0</td>\n",
              "      <td>0</td>\n",
              "      <td>0</td>\n",
              "      <td>0</td>\n",
              "      <td>0</td>\n",
              "      <td>0</td>\n",
              "    </tr>\n",
              "    <tr>\n",
              "      <th>1</th>\n",
              "      <td>0</td>\n",
              "      <td>0</td>\n",
              "      <td>0</td>\n",
              "      <td>0</td>\n",
              "      <td>0</td>\n",
              "      <td>0</td>\n",
              "      <td>0</td>\n",
              "      <td>0</td>\n",
              "      <td>0</td>\n",
              "      <td>0</td>\n",
              "      <td>...</td>\n",
              "      <td>0</td>\n",
              "      <td>0</td>\n",
              "      <td>0</td>\n",
              "      <td>0</td>\n",
              "      <td>0</td>\n",
              "      <td>0</td>\n",
              "      <td>0</td>\n",
              "      <td>0</td>\n",
              "      <td>0</td>\n",
              "      <td>0</td>\n",
              "    </tr>\n",
              "    <tr>\n",
              "      <th>2</th>\n",
              "      <td>0</td>\n",
              "      <td>0</td>\n",
              "      <td>0</td>\n",
              "      <td>0</td>\n",
              "      <td>0</td>\n",
              "      <td>0</td>\n",
              "      <td>0</td>\n",
              "      <td>0</td>\n",
              "      <td>0</td>\n",
              "      <td>0</td>\n",
              "      <td>...</td>\n",
              "      <td>0</td>\n",
              "      <td>0</td>\n",
              "      <td>0</td>\n",
              "      <td>0</td>\n",
              "      <td>0</td>\n",
              "      <td>0</td>\n",
              "      <td>0</td>\n",
              "      <td>0</td>\n",
              "      <td>0</td>\n",
              "      <td>0</td>\n",
              "    </tr>\n",
              "    <tr>\n",
              "      <th>3</th>\n",
              "      <td>0</td>\n",
              "      <td>0</td>\n",
              "      <td>0</td>\n",
              "      <td>0</td>\n",
              "      <td>0</td>\n",
              "      <td>0</td>\n",
              "      <td>0</td>\n",
              "      <td>0</td>\n",
              "      <td>0</td>\n",
              "      <td>0</td>\n",
              "      <td>...</td>\n",
              "      <td>0</td>\n",
              "      <td>0</td>\n",
              "      <td>0</td>\n",
              "      <td>0</td>\n",
              "      <td>0</td>\n",
              "      <td>0</td>\n",
              "      <td>0</td>\n",
              "      <td>0</td>\n",
              "      <td>0</td>\n",
              "      <td>0</td>\n",
              "    </tr>\n",
              "    <tr>\n",
              "      <th>4</th>\n",
              "      <td>0</td>\n",
              "      <td>0</td>\n",
              "      <td>0</td>\n",
              "      <td>0</td>\n",
              "      <td>0</td>\n",
              "      <td>0</td>\n",
              "      <td>0</td>\n",
              "      <td>0</td>\n",
              "      <td>0</td>\n",
              "      <td>0</td>\n",
              "      <td>...</td>\n",
              "      <td>0</td>\n",
              "      <td>0</td>\n",
              "      <td>0</td>\n",
              "      <td>0</td>\n",
              "      <td>0</td>\n",
              "      <td>0</td>\n",
              "      <td>0</td>\n",
              "      <td>0</td>\n",
              "      <td>0</td>\n",
              "      <td>0</td>\n",
              "    </tr>\n",
              "  </tbody>\n",
              "</table>\n",
              "<p>5 rows × 31696 columns</p>\n",
              "</div>"
            ],
            "text/plain": [
              "   0  00  000  001  002  00290  007  0070412901  0072316373  008  \\\n",
              "0  0   0    0    0    0      0    0           0           0    0   \n",
              "1  0   0    0    0    0      0    0           0           0    0   \n",
              "2  0   0    0    0    0      0    0           0           0    0   \n",
              "3  0   0    0    0    0      0    0           0           0    0   \n",
              "4  0   0    0    0    0      0    0           0           0    0   \n",
              "\n",
              "                                       ...                                       \\\n",
              "0                                      ...                                        \n",
              "1                                      ...                                        \n",
              "2                                      ...                                        \n",
              "3                                      ...                                        \n",
              "4                                      ...                                        \n",
              "\n",
              "   zzzz  zzzzz  zzzzzz  zzzzzzz  zzzzzzzzzz  zzzzzzzzzzzz  zzzzzzzzzzzzz  \\\n",
              "0     0      0       0        0           0             0              0   \n",
              "1     0      0       0        0           0             0              0   \n",
              "2     0      0       0        0           0             0              0   \n",
              "3     0      0       0        0           0             0              0   \n",
              "4     0      0       0        0           0             0              0   \n",
              "\n",
              "   zzzzzzzzzzzzzzzzzz  zzzzzzzzzzzzzzzzzzzzz  \\\n",
              "0                   0                      0   \n",
              "1                   0                      0   \n",
              "2                   0                      0   \n",
              "3                   0                      0   \n",
              "4                   0                      0   \n",
              "\n",
              "   zzzzzzzzzzzzzzzzzzzzzzzzzzzzzzzzzzzzzzzzzzzzzzzzzzzzzzzzzzzzzzzzzzzzzzzzzzzz  \n",
              "0                                                  0                             \n",
              "1                                                  0                             \n",
              "2                                                  0                             \n",
              "3                                                  0                             \n",
              "4                                                  0                             \n",
              "\n",
              "[5 rows x 31696 columns]"
            ]
          },
          "metadata": {
            "tags": []
          },
          "execution_count": 32
        }
      ]
    },
    {
      "metadata": {
        "id": "phXw5jva5QWx",
        "colab_type": "code",
        "colab": {}
      },
      "cell_type": "code",
      "source": [
        ""
      ],
      "execution_count": 0,
      "outputs": []
    }
  ]
}